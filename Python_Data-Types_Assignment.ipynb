{
 "cells": [
  {
   "cell_type": "code",
   "execution_count": 1,
   "id": "5ae6c03f-f575-4641-b4fe-25fc9928b53c",
   "metadata": {},
   "outputs": [],
   "source": [
    "# Q1:- Discuss string slicing and provide examples in python"
   ]
  },
  {
   "cell_type": "code",
   "execution_count": null,
   "id": "59888331-144d-4027-b6b2-332b933cd095",
   "metadata": {},
   "outputs": [],
   "source": [
    "#ANS:-\n",
    "String slicing is a  technique that allows us to extract specific portions of a string based on their indices. \n",
    "It involves specifying a range of indices using square brackets, where the starting index is inclusive, and the ending index is exclusive.\n",
    "Syntax:-  string[start:end:step]"
   ]
  },
  {
   "cell_type": "code",
   "execution_count": 9,
   "id": "ab39a897-2c36-4229-a856-b17aa004914e",
   "metadata": {},
   "outputs": [
    {
     "data": {
      "text/plain": [
       "'World'"
      ]
     },
     "execution_count": 9,
     "metadata": {},
     "output_type": "execute_result"
    }
   ],
   "source": [
    "# Extracting a substring:\n",
    "my_string = \"Hello, World!\"\n",
    "my_string[7:12]"
   ]
  },
  {
   "cell_type": "code",
   "execution_count": 11,
   "id": "12d728be-42a4-4d3a-9a61-8717edbc98ea",
   "metadata": {},
   "outputs": [
    {
     "data": {
      "text/plain": [
       "'Python'"
      ]
     },
     "execution_count": 11,
     "metadata": {},
     "output_type": "execute_result"
    }
   ],
   "source": [
    "# Slicing from the beginning:\n",
    "my_string = \"Python is awesome\"   # Bydefault it will start from o index\n",
    "my_string[:6]"
   ]
  },
  {
   "cell_type": "code",
   "execution_count": 15,
   "id": "ea87bf78-5668-42d5-b622-2d27992771ad",
   "metadata": {},
   "outputs": [
    {
     "data": {
      "text/plain": [
       "'mming is fun'"
      ]
     },
     "execution_count": 15,
     "metadata": {},
     "output_type": "execute_result"
    }
   ],
   "source": [
    "  # Slicing to the end:\n",
    "my_string = \"Programming is fun\"\n",
    "my_string[6:]"
   ]
  },
  {
   "cell_type": "code",
   "execution_count": 17,
   "id": "d70d486f-28e1-4390-8add-8e65122b46cf",
   "metadata": {},
   "outputs": [
    {
     "data": {
      "text/plain": [
       "'acegik'"
      ]
     },
     "execution_count": 17,
     "metadata": {},
     "output_type": "execute_result"
    }
   ],
   "source": [
    "# Slicing with a step:\n",
    "my_string = \"abcdefghijk\"\n",
    "my_string[::2]\n"
   ]
  },
  {
   "cell_type": "code",
   "execution_count": 19,
   "id": "0e72d3e3-94ab-422d-b9d4-b5de84bdb81d",
   "metadata": {},
   "outputs": [
    {
     "data": {
      "text/plain": [
       "'olleh'"
      ]
     },
     "execution_count": 19,
     "metadata": {},
     "output_type": "execute_result"
    }
   ],
   "source": [
    "# Reversing a string:\n",
    "my_string = \"hello\"\n",
    "my_string[::-1]"
   ]
  },
  {
   "cell_type": "code",
   "execution_count": 21,
   "id": "d66e4d29-9a37-4e19-9de3-51fc4e3d827c",
   "metadata": {},
   "outputs": [],
   "source": [
    "# Q2:- Explain the key features of lists in Python."
   ]
  },
  {
   "cell_type": "code",
   "execution_count": null,
   "id": "56c17935-af8d-4008-9e7b-c25b0a35b0cb",
   "metadata": {},
   "outputs": [],
   "source": [
    "# ANS:-\n",
    "Here are some of their key features:\n",
    "\n",
    "1.Ordered Collection:\n",
    "Indexing: Elements in a list are accessed using their index, starting from 0.\n",
    "Slicing: we can extract specific portions of a list using slicing notation.\n",
    "\n",
    "2. Mutable:\n",
    "Modification: Elements within a list can be changed, added, or removed after creation.\n",
    "Dynamic Size: Lists can grow or shrink as needed.\n",
    "\n",
    "3. Heterogeneous:\n",
    "Mixed Data Types: Lists can contain elements of different data types (e.g., integers, strings, floats, even other lists).\n",
    "\n",
    "\n",
    "4. Methods and Functions:\n",
    "Built-in Methods: Python provides a variety of methods to manipulate lists, such as append, insert, remove, pop, sort, reverse, etc.\n",
    "Functions: Functions like len can be used to get the length of a list, and in can check if an element exists in the list. \n",
    "\n",
    "5. Nested Lists:\n",
    "Multi-dimensional Structures: Lists can contain other lists, creating nested or multi-dimensional structures."
   ]
  },
  {
   "cell_type": "code",
   "execution_count": 23,
   "id": "8bb5efd3-eb91-440c-8f6a-37435ebad514",
   "metadata": {},
   "outputs": [],
   "source": [
    "# Q3:- Describe how to access , modify  and delete elements in a list with examples"
   ]
  },
  {
   "cell_type": "code",
   "execution_count": null,
   "id": "8babfd2e-45d9-48b4-b846-a5074d7e7332",
   "metadata": {},
   "outputs": [],
   "source": [
    "# ANS:-\n",
    "Accessing Elements:\n",
    "We use square brackets with the index (starting from 0) to access a specific element."
   ]
  },
  {
   "cell_type": "code",
   "execution_count": 25,
   "id": "327aea47-4651-47c2-b147-0c9ed002204b",
   "metadata": {},
   "outputs": [
    {
     "name": "stdout",
     "output_type": "stream",
     "text": [
      "10\n"
     ]
    }
   ],
   "source": [
    "my_list = [10, 20, 30, 40, 50]\n",
    "first_element = my_list[0]\n",
    "print(first_element)"
   ]
  },
  {
   "cell_type": "code",
   "execution_count": null,
   "id": "504afa50-7510-445b-8a87-8ca9655c0f68",
   "metadata": {},
   "outputs": [],
   "source": [
    "Modifying Elements:\n",
    "We can Assign a new value to a specific index."
   ]
  },
  {
   "cell_type": "code",
   "execution_count": 27,
   "id": "7bc50157-9d8c-4201-9109-498d18f2c897",
   "metadata": {},
   "outputs": [
    {
     "name": "stdout",
     "output_type": "stream",
     "text": [
      "[10, 20, 100, 40, 50]\n"
     ]
    }
   ],
   "source": [
    "my_list[2] = 100\n",
    "print(my_list)"
   ]
  },
  {
   "cell_type": "code",
   "execution_count": 29,
   "id": "392dc7c7-fec6-443b-b8ba-ee97b8721bb9",
   "metadata": {},
   "outputs": [
    {
     "name": "stdout",
     "output_type": "stream",
     "text": [
      "[10, 20, 100, 40, 50, 60]\n"
     ]
    }
   ],
   "source": [
    "# We can also append\n",
    "my_list.append(60)\n",
    "print(my_list) "
   ]
  },
  {
   "cell_type": "code",
   "execution_count": 31,
   "id": "c6b1eb40-1e5e-46ca-94ce-91e28e21dad2",
   "metadata": {},
   "outputs": [
    {
     "name": "stdout",
     "output_type": "stream",
     "text": [
      "[10, 20, 80, 100, 40, 50, 60]\n"
     ]
    }
   ],
   "source": [
    "# Insertion can be also possible\n",
    "my_list.insert(2, 80)\n",
    "print(my_list)"
   ]
  },
  {
   "cell_type": "code",
   "execution_count": null,
   "id": "c9e85685-9b4f-4cbf-9331-01f4a36c024e",
   "metadata": {},
   "outputs": [],
   "source": [
    "Deleting Elements:\n",
    "Using remove(): Remove the first occurrence of a specific value"
   ]
  },
  {
   "cell_type": "code",
   "execution_count": 33,
   "id": "0b860d2a-402d-4477-bf22-d785d23b1582",
   "metadata": {},
   "outputs": [
    {
     "name": "stdout",
     "output_type": "stream",
     "text": [
      "[10, 20, 30, 50, 40]\n"
     ]
    }
   ],
   "source": [
    "my_list = [10, 20, 30, 40, 50, 40]\n",
    "my_list.remove(40)\n",
    "print(my_list)"
   ]
  },
  {
   "cell_type": "code",
   "execution_count": 35,
   "id": "3890e482-a8ea-4fdd-9fc1-3a1f48e4803e",
   "metadata": {},
   "outputs": [
    {
     "data": {
      "text/plain": [
       "20"
      ]
     },
     "execution_count": 35,
     "metadata": {},
     "output_type": "execute_result"
    }
   ],
   "source": [
    "# We can use pop() >> We can delete the apecific index element or bydefault it will delete last element\n",
    "my_list.pop(1)"
   ]
  },
  {
   "cell_type": "code",
   "execution_count": 37,
   "id": "de59c349-12cf-48b9-a465-5aaf837670e3",
   "metadata": {},
   "outputs": [
    {
     "name": "stdout",
     "output_type": "stream",
     "text": [
      "[10, 30]\n"
     ]
    }
   ],
   "source": [
    "# Using del: We can also Delete an element or a range of elements:\n",
    "del my_list[2:4]\n",
    "print(my_list)"
   ]
  },
  {
   "cell_type": "code",
   "execution_count": null,
   "id": "f364147b-30f4-48e0-88ae-ceffc2f8c0a6",
   "metadata": {},
   "outputs": [],
   "source": [
    "# Q4:- Compare and contrast tuples and lists with examples"
   ]
  },
  {
   "cell_type": "code",
   "execution_count": null,
   "id": "1687040f-ae0c-4640-bf08-efb48b7a0388",
   "metadata": {},
   "outputs": [],
   "source": [
    "# ANS:-\n",
    "There are some factors which make some differences between tuples and lists\n",
    "1.Mutability:\n",
    "Lists: Mutable, meaning their elements can be changed, added, or removed after creation.\n",
    "Tuples: Immutable, meaning their elements cannot be modified once created.\n",
    "\n",
    "2.Usage\n",
    "Lists: Commonly used for Storing ordered collections of items that need to be modified.\n",
    "Implementing stacks, queues, and other data structures.\n",
    "Creating dynamic data structures like matrices or graphs.\n",
    "Tuples: Commonly used for Storing fixed collections of items that should not be changed.\n",
    "Using as keys in dictionaries."
   ]
  },
  {
   "cell_type": "code",
   "execution_count": 39,
   "id": "ddb2502f-8785-4fe5-8dff-379519006d58",
   "metadata": {},
   "outputs": [
    {
     "name": "stdout",
     "output_type": "stream",
     "text": [
      "[1, 5, 'hello', 4]\n"
     ]
    }
   ],
   "source": [
    "my_list = [1, 2, 3, \"hello\"]\n",
    "my_list.append(4)   # Here we can add element even after it's creation.\n",
    "my_list[1] = 5      # Here we can modify the element.\n",
    "del my_list[2]      # Here we can delete the element.\n",
    "print(my_list)"
   ]
  },
  {
   "cell_type": "code",
   "execution_count": 41,
   "id": "297343a5-1356-440b-bec1-3335c9bb1190",
   "metadata": {},
   "outputs": [
    {
     "ename": "AttributeError",
     "evalue": "'tuple' object has no attribute 'append'",
     "output_type": "error",
     "traceback": [
      "\u001b[1;31m---------------------------------------------------------------------------\u001b[0m",
      "\u001b[1;31mAttributeError\u001b[0m                            Traceback (most recent call last)",
      "Cell \u001b[1;32mIn[41], line 2\u001b[0m\n\u001b[0;32m      1\u001b[0m my_tuple \u001b[38;5;241m=\u001b[39m (\u001b[38;5;241m1\u001b[39m, \u001b[38;5;241m2\u001b[39m, \u001b[38;5;241m3\u001b[39m, \u001b[38;5;124m\"\u001b[39m\u001b[38;5;124mhello\u001b[39m\u001b[38;5;124m\"\u001b[39m)\n\u001b[1;32m----> 2\u001b[0m my_tuple\u001b[38;5;241m.\u001b[39mappend(\u001b[38;5;241m4\u001b[39m)  \u001b[38;5;66;03m# This will raise an error  Because we can not add element once it's been created\u001b[39;00m\n\u001b[0;32m      3\u001b[0m my_tuple[\u001b[38;5;241m1\u001b[39m] \u001b[38;5;241m=\u001b[39m \u001b[38;5;241m5\u001b[39m     \u001b[38;5;66;03m# This will raise an error Because we can not modify at all after it's creation\u001b[39;00m\n\u001b[0;32m      4\u001b[0m \u001b[38;5;28mprint\u001b[39m(my_tuple)\n",
      "\u001b[1;31mAttributeError\u001b[0m: 'tuple' object has no attribute 'append'"
     ]
    }
   ],
   "source": [
    "my_tuple = (1, 2, 3, \"hello\")\n",
    "my_tuple.append(4)  # This will raise an error  Because we can not add element once it's been created\n",
    "my_tuple[1] = 5     # This will raise an error Because we can not modify at all after it's creation\n",
    "print(my_tuple)"
   ]
  },
  {
   "cell_type": "code",
   "execution_count": 43,
   "id": "127a983f-eae8-4112-ab33-3fe7860bbb98",
   "metadata": {},
   "outputs": [],
   "source": [
    "# Q5:- Describe the key features of sets and provide examples of their use"
   ]
  },
  {
   "cell_type": "code",
   "execution_count": null,
   "id": "405d6b48-389d-4653-86fe-f6dfb6638252",
   "metadata": {},
   "outputs": [],
   "source": [
    "# ANS:-\n",
    "1.Unordered: Elements in a set do not have a specific order.\n",
    "2.Unique: Each element can only appear once in a set.\n",
    "3.Immutable: Elements within a set cannot be changed, but the set itself can be modified by adding or removing elements.\n",
    "4.No Indexing: Since sets are unordered, they cannot be accessed using indices."
   ]
  },
  {
   "cell_type": "code",
   "execution_count": 51,
   "id": "e30f4987-cda5-49d7-9838-509290a4f29a",
   "metadata": {},
   "outputs": [
    {
     "name": "stdout",
     "output_type": "stream",
     "text": [
      "{1, 2, 3, 4}\n"
     ]
    }
   ],
   "source": [
    "# Unordered\n",
    "my_set = {1, 3 ,4 , 4 ,2}  # It indicates that elements can be insert Unorderedly\n",
    "print(my_set)"
   ]
  },
  {
   "cell_type": "code",
   "execution_count": 53,
   "id": "31776eac-f52b-41fa-8bf8-8e8fd360158b",
   "metadata": {},
   "outputs": [
    {
     "name": "stdout",
     "output_type": "stream",
     "text": [
      "{1, 2, 3}\n"
     ]
    }
   ],
   "source": [
    "#  Unique\n",
    "my_set = {1, 2, 3, 2}   # It's specify that duplicates elements will be removed\n",
    "print(my_set)"
   ]
  },
  {
   "cell_type": "code",
   "execution_count": 55,
   "id": "e9c089de-2eae-4f90-97c4-8a7af4d4fa2f",
   "metadata": {},
   "outputs": [
    {
     "ename": "TypeError",
     "evalue": "'set' object does not support item assignment",
     "output_type": "error",
     "traceback": [
      "\u001b[1;31m---------------------------------------------------------------------------\u001b[0m",
      "\u001b[1;31mTypeError\u001b[0m                                 Traceback (most recent call last)",
      "Cell \u001b[1;32mIn[55], line 3\u001b[0m\n\u001b[0;32m      1\u001b[0m \u001b[38;5;66;03m# Immutable\u001b[39;00m\n\u001b[0;32m      2\u001b[0m my_set \u001b[38;5;241m=\u001b[39m {\u001b[38;5;241m1\u001b[39m, \u001b[38;5;241m2\u001b[39m, \u001b[38;5;241m3\u001b[39m}\n\u001b[1;32m----> 3\u001b[0m my_set[\u001b[38;5;241m0\u001b[39m] \u001b[38;5;241m=\u001b[39m \u001b[38;5;241m4\u001b[39m\n",
      "\u001b[1;31mTypeError\u001b[0m: 'set' object does not support item assignment"
     ]
    }
   ],
   "source": [
    "# Immutable\n",
    "my_set = {1, 2, 3}   # Can not be changed  that's why it give error\n",
    "my_set[0] = 4"
   ]
  },
  {
   "cell_type": "code",
   "execution_count": 57,
   "id": "6b917875-125d-4840-b8bd-a6ce71e93159",
   "metadata": {},
   "outputs": [
    {
     "ename": "TypeError",
     "evalue": "'set' object is not subscriptable",
     "output_type": "error",
     "traceback": [
      "\u001b[1;31m---------------------------------------------------------------------------\u001b[0m",
      "\u001b[1;31mTypeError\u001b[0m                                 Traceback (most recent call last)",
      "Cell \u001b[1;32mIn[57], line 3\u001b[0m\n\u001b[0;32m      1\u001b[0m \u001b[38;5;66;03m# No Indexing\u001b[39;00m\n\u001b[0;32m      2\u001b[0m my_set \u001b[38;5;241m=\u001b[39m {\u001b[38;5;241m1\u001b[39m, \u001b[38;5;241m2\u001b[39m, \u001b[38;5;241m3\u001b[39m}\n\u001b[1;32m----> 3\u001b[0m \u001b[38;5;28mprint\u001b[39m(my_set[\u001b[38;5;241m0\u001b[39m])\n",
      "\u001b[1;31mTypeError\u001b[0m: 'set' object is not subscriptable"
     ]
    }
   ],
   "source": [
    "# No Indexing\n",
    "my_set = {1, 2, 3}         # We can not use index directly to print. So give error\n",
    "print(my_set[0])"
   ]
  },
  {
   "cell_type": "code",
   "execution_count": 59,
   "id": "6951c7ff-3d85-46f6-a2df-11577946ffa2",
   "metadata": {},
   "outputs": [],
   "source": [
    "# Q6:- Discuss the use cases of tuples and sets in Python programming"
   ]
  },
  {
   "cell_type": "code",
   "execution_count": null,
   "id": "2974148c-46eb-4456-b3fc-8014da257205",
   "metadata": {},
   "outputs": [],
   "source": [
    "# ANS:-\n",
    "# For tuples\n",
    "1.Immutable Data: Tuples are ideal for representing data that should not be modified after creation.  includes:\n",
    "   Coordinate pairs: (x, y)\n",
    "   Dates and times: (year, month, day)\n",
    "   Database records: (id, name, age)\n",
    "2.Using as Keys in Dictionaries: Since tuples are immutable, they can be used as keys in dictionaries, allowing for efficient lookups based on multiple values.\n",
    "\n",
    "\n",
    "# For  Sets\n",
    "1.Unique Elements: Sets are perfect for storing collections of unique elements, eliminating duplicates. This is useful for:\n",
    "   Membership testing: Checking if an element exists in a set.\n",
    "   Removing duplicates from a list: Creating a set from a list effectively removes duplicates.\n",
    "   Mathematical operations: Performing set operations like union, intersection, difference, and symmetric difference.\n",
    "2.Unordered Collections: Sets do not maintain a specific order, making them suitable for applications where the order of elements is not important."
   ]
  },
  {
   "cell_type": "code",
   "execution_count": 61,
   "id": "125d24e0-2db1-4c09-8e5e-74665b15746a",
   "metadata": {},
   "outputs": [],
   "source": [
    "\n",
    "# Q7:- Describe how to add , modify and delete items in a dictionary with examples"
   ]
  },
  {
   "cell_type": "code",
   "execution_count": null,
   "id": "36e45dfb-6b88-4564-bc6e-2592ad8b3ea1",
   "metadata": {},
   "outputs": [],
   "source": [
    "# ANS:-\n",
    "Adding Items:\n",
    "Direct Assignment: The simplest way to add a new key-value pair is by directly assigning a value to a new key."
   ]
  },
  {
   "cell_type": "code",
   "execution_count": 63,
   "id": "54b4f59c-0403-4637-942d-eee6774ae81c",
   "metadata": {},
   "outputs": [
    {
     "name": "stdout",
     "output_type": "stream",
     "text": [
      "{'key1': 'value1', 'key2': 'value2'}\n"
     ]
    }
   ],
   "source": [
    "my_dict = {}\n",
    "my_dict[\"key1\"] = \"value1\"\n",
    "my_dict[\"key2\"] = \"value2\"\n",
    "print(my_dict)"
   ]
  },
  {
   "cell_type": "code",
   "execution_count": null,
   "id": "04fd9880-7df0-4c92-ad43-632eb1b3b80b",
   "metadata": {},
   "outputs": [],
   "source": [
    "Using the update() Method: If we have another dictionary then we can use the update() method to add multiple items at once."
   ]
  },
  {
   "cell_type": "code",
   "execution_count": 67,
   "id": "cd71457b-4013-4e72-afeb-1d0e760190d3",
   "metadata": {},
   "outputs": [
    {
     "name": "stdout",
     "output_type": "stream",
     "text": [
      "{'key2': 'value2', 'key3': 'value3', 'key1': 'value1'}\n"
     ]
    }
   ],
   "source": [
    "my_dict = {\"key1\": \"value1\"}\n",
    "new_items = {\"key2\": \"value2\", \"key3\": \"value3\"}\n",
    "new_items.update(my_dict)\n",
    "print(new_items)"
   ]
  },
  {
   "cell_type": "code",
   "execution_count": null,
   "id": "67756521-1abe-4cea-a90f-feab82c4e9bd",
   "metadata": {},
   "outputs": [],
   "source": [
    "Modifying Items:\n",
    "Direct Assignment: To modify the value associated with an existing key, simply assign a new value to that key\n"
   ]
  },
  {
   "cell_type": "code",
   "execution_count": 71,
   "id": "025e0f57-1184-4ac2-a169-2c5467f5398f",
   "metadata": {},
   "outputs": [
    {
     "name": "stdout",
     "output_type": "stream",
     "text": [
      "{'key1': 'PW Skills'}\n"
     ]
    }
   ],
   "source": [
    "my_dict = {\"key1\": \"value1\"}\n",
    "my_dict[\"key1\"] = \"PW Skills\"\n",
    "print(my_dict)"
   ]
  },
  {
   "cell_type": "code",
   "execution_count": null,
   "id": "d38c6ac5-da58-4671-a9a8-50fb861a47e1",
   "metadata": {},
   "outputs": [],
   "source": [
    "Deleting Items:\n",
    "Using the del Keyword:we can delete a key-value pair using the del keyword."
   ]
  },
  {
   "cell_type": "code",
   "execution_count": 79,
   "id": "bc53bd17-8301-4d2e-b0b2-e2f529c95fd1",
   "metadata": {},
   "outputs": [
    {
     "name": "stdout",
     "output_type": "stream",
     "text": [
      "{'key2': 'value2'}\n"
     ]
    }
   ],
   "source": [
    "my_dict = {\"key1\": \"value1\", \"key2\": \"value2\"}\n",
    "del my_dict[\"key1\"]\n",
    "print(my_dict)"
   ]
  },
  {
   "cell_type": "code",
   "execution_count": 81,
   "id": "e5723636-d262-417d-a067-dc1f4f181b9a",
   "metadata": {},
   "outputs": [],
   "source": [
    "# Q8:- Discuss the importance of dictionary keys being immutable and provide examples."
   ]
  },
  {
   "cell_type": "code",
   "execution_count": null,
   "id": "58769225-a173-4f0b-a9a6-5d3fd3f9ed19",
   "metadata": {},
   "outputs": [],
   "source": [
    "# ANS:-\n",
    "1.Comparison: Dictionaries compare keys to find the appropriate value. If keys were mutable, their comparison behavior could change over time, leading to unpredictable results and potential errors.\n",
    "Performance: Immutable keys allow for efficient caching of hash codes, which can significantly improve dictionary operations, especially for large dictionaries."
   ]
  },
  {
   "cell_type": "code",
   "execution_count": null,
   "id": "18048ac0-b274-4a0e-86e5-389d22d75bdd",
   "metadata": {},
   "outputs": [],
   "source": [
    "If we attempt to use a mutable object as a dictionary key, Python will raise a TypeError. This is because the hash code of a mutable object can change, leading to unpredictable behavior and potential errors."
   ]
  },
  {
   "cell_type": "code",
   "execution_count": 85,
   "id": "2c9fc0e6-e43c-4021-8bde-0d727252ea8b",
   "metadata": {},
   "outputs": [
    {
     "ename": "TypeError",
     "evalue": "unhashable type: 'list'",
     "output_type": "error",
     "traceback": [
      "\u001b[1;31m---------------------------------------------------------------------------\u001b[0m",
      "\u001b[1;31mTypeError\u001b[0m                                 Traceback (most recent call last)",
      "Cell \u001b[1;32mIn[85], line 1\u001b[0m\n\u001b[1;32m----> 1\u001b[0m my_dict \u001b[38;5;241m=\u001b[39m {[\u001b[38;5;124m\"\u001b[39m\u001b[38;5;124mkey1\u001b[39m\u001b[38;5;124m\"\u001b[39m, \u001b[38;5;124m\"\u001b[39m\u001b[38;5;124mkey2\u001b[39m\u001b[38;5;124m\"\u001b[39m]: \u001b[38;5;124m\"\u001b[39m\u001b[38;5;124mvalue\u001b[39m\u001b[38;5;124m\"\u001b[39m}\n",
      "\u001b[1;31mTypeError\u001b[0m: unhashable type: 'list'"
     ]
    }
   ],
   "source": [
    "my_dict = {[\"key1\", \"key2\"]: \"value\"}  # It gives the Error"
   ]
  },
  {
   "cell_type": "code",
   "execution_count": null,
   "id": "c6f8de7b-e549-4064-906b-320d7e3c677e",
   "metadata": {},
   "outputs": [],
   "source": []
  }
 ],
 "metadata": {
  "kernelspec": {
   "display_name": "Python 3 (ipykernel)",
   "language": "python",
   "name": "python3"
  },
  "language_info": {
   "codemirror_mode": {
    "name": "ipython",
    "version": 3
   },
   "file_extension": ".py",
   "mimetype": "text/x-python",
   "name": "python",
   "nbconvert_exporter": "python",
   "pygments_lexer": "ipython3",
   "version": "3.12.4"
  }
 },
 "nbformat": 4,
 "nbformat_minor": 5
}
