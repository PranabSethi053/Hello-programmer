{
 "cells": [
  {
   "cell_type": "raw",
   "id": "06fbe432-a6a6-4ef5-ba36-06fa8e2a9a79",
   "metadata": {},
   "source": [
    "Q1:-Explain the key features of Python that make it a popular choice for programming"
   ]
  },
  {
   "cell_type": "code",
   "execution_count": null,
   "id": "23f8564e-4845-4c23-8e62-7825382aee24",
   "metadata": {},
   "outputs": [],
   "source": [
    "ANS:-\n",
    "1. Readability and Simplicity:\n",
    "\n",
    "Clear syntax: Python's syntax is designed to be easy to read and understand, reducing the learning curve for new programmers.\n",
    "Indentation-based structure: Python uses indentation to define code blocks, making the structure more visually appealing and easier to follow.\n",
    "English-like keywords: Python uses English-like keywords, making the code more intuitive and natural to understand.\n",
    "\n",
    "2. Versatility:\n",
    "    \n",
    "Wide range of applications: Python can be used for various tasks, including web development, data analysis, scientific computing, machine learning, automation, and more.\n",
    "Extensive libraries and frameworks: Python boasts a rich ecosystem of libraries and frameworks, such as NumPy, Pandas, TensorFlow, Django, and Flask, that provide powerful tools and functionalities for specific domains.\n",
    "\n",
    "\n",
    "3. Community and Support:\n",
    "\n",
    "Large and active community: Python has a vast and supportive community of developers who contribute to its growth and development."
   ]
  },
  {
   "cell_type": "raw",
   "id": "3c9a9a14-9134-4a56-a9c3-0dba0a92bd8b",
   "metadata": {},
   "source": [
    "Q2:Describe the role of predefined keywords in Python and provide examples of how they are used in a \n",
    "program"
   ]
  },
  {
   "cell_type": "code",
   "execution_count": null,
   "id": "1fd61307-29f0-4eb6-b293-0b73d32d016f",
   "metadata": {},
   "outputs": [],
   "source": [
    "ANS:-\n",
    "1. Predefined keywords in Python are reserved words that have specific meanings within the language. They cannot be used as variable names or identifiers. These keywords are essential for defining the structure, control flow, and operations of Python programs.\n",
    "2. Keywords are case-sensitive and cannot be redefined or overridden within a Python program.\n",
    "3. Examples of keywords include if, else, while, for, def, class, import, try, except, return, True, False, None, etc."
   ]
  },
  {
   "cell_type": "code",
   "execution_count": 3,
   "id": "f82ed9de-2001-494c-aeb8-4f1a0a93b387",
   "metadata": {},
   "outputs": [
    {
     "name": "stdout",
     "output_type": "stream",
     "text": [
      "True\n"
     ]
    }
   ],
   "source": [
    "if 3 > 2 :\n",
    "    print(\"True\")\n",
    "else :\n",
    "    print(\"False\")"
   ]
  },
  {
   "cell_type": "code",
   "execution_count": 5,
   "id": "b9abeb29-b002-481e-ace2-169fe07a0817",
   "metadata": {},
   "outputs": [
    {
     "name": "stdout",
     "output_type": "stream",
     "text": [
      "apple\n",
      "banana\n",
      "orange\n"
     ]
    }
   ],
   "source": [
    "fruits = [\"apple\", \"banana\", \"orange\"]\n",
    "for fruit in fruits:\n",
    "    print(fruit)"
   ]
  },
  {
   "cell_type": "code",
   "execution_count": 7,
   "id": "eed0899c-57a0-4ee5-82ca-70c0a9038989",
   "metadata": {},
   "outputs": [
    {
     "name": "stdout",
     "output_type": "stream",
     "text": [
      "0\n",
      "1\n",
      "2\n",
      "3\n",
      "4\n"
     ]
    }
   ],
   "source": [
    "count = 0\n",
    "while count < 5:\n",
    "    print(count)\n",
    "    count += 1"
   ]
  },
  {
   "cell_type": "code",
   "execution_count": 19,
   "id": "938ae3e9-a281-4bbd-b52f-3b940c3d63a3",
   "metadata": {},
   "outputs": [],
   "source": [
    "name=\"Pranab\"\n",
    "def greet(name):\n",
    "    print(\"Hello, My name is\" , name )"
   ]
  },
  {
   "cell_type": "code",
   "execution_count": 11,
   "id": "060bae2d-975b-48ce-a936-027f960fcccc",
   "metadata": {},
   "outputs": [],
   "source": [
    "class Person:\n",
    "    def __init__(self, name, age):\n",
    "        self.name = name\n",
    "        self.age = age"
   ]
  },
  {
   "cell_type": "code",
   "execution_count": 15,
   "id": "79cb581c-b469-43e3-815d-52ed6c10f3bc",
   "metadata": {},
   "outputs": [
    {
     "data": {
      "text/plain": [
       "5.0"
      ]
     },
     "execution_count": 15,
     "metadata": {},
     "output_type": "execute_result"
    }
   ],
   "source": [
    "import math\n",
    "result = math.sqrt(25)\n",
    "result"
   ]
  },
  {
   "cell_type": "code",
   "execution_count": null,
   "id": "4c2fb3bd-475a-4952-949b-5c71a9276f7b",
   "metadata": {},
   "outputs": [],
   "source": [
    "try:\n",
    "    num = int(input(\"Enter a number: \"))\n",
    "    result = 10 / num\n",
    "    print(\"Result:\", result)\n",
    "\n",
    "except ZeroDivisionError:   \n",
    "\n",
    "    print(\"Error: Division by zero is not allowed.\")\n",
    "\n",
    "except ValueError:\n",
    "    print(\"Error: Please enter a valid number.\")"
   ]
  },
  {
   "cell_type": "code",
   "execution_count": 23,
   "id": "7f738b2e-d097-423f-8db9-58418d7b1170",
   "metadata": {},
   "outputs": [
    {
     "name": "stdout",
     "output_type": "stream",
     "text": [
      "8\n"
     ]
    }
   ],
   "source": [
    "def add(x, y):\n",
    "    return x + y\n",
    "\n",
    "result = add(3, 5)\n",
    "print(result)"
   ]
  },
  {
   "cell_type": "code",
   "execution_count": 25,
   "id": "e756808e-b9cc-4b50-928c-53e5e472c88b",
   "metadata": {},
   "outputs": [
    {
     "name": "stdout",
     "output_type": "stream",
     "text": [
      "True\n"
     ]
    }
   ],
   "source": [
    "\n",
    "if 5 > 3:\n",
    "    print(\"True\")\n",
    "else :\n",
    "    print(\"False\")"
   ]
  },
  {
   "cell_type": "raw",
   "id": "18fc08c5-04c6-40ed-8669-0c3dcd29206b",
   "metadata": {},
   "source": [
    "Q3:- Compare and contrast mutable and immutable objects in Python with examples"
   ]
  },
  {
   "cell_type": "code",
   "execution_count": null,
   "id": "91d6aa3c-0dc4-4342-ab31-16d803dfd2a6",
   "metadata": {},
   "outputs": [],
   "source": [
    "ANS:-\n",
    "In Python, objects can be classified into two categories: mutable and immutable. The key difference lies in their ability to be modified after creation.\n",
    "\n",
    "\n",
    "Mutable Objects:\n",
    "Definition: Objects that can be changed after they are created.\n",
    "Examples: Lists, dictionaries, sets."
   ]
  },
  {
   "cell_type": "code",
   "execution_count": 27,
   "id": "92a7ebc7-799a-4e82-940d-95f232305fed",
   "metadata": {},
   "outputs": [
    {
     "name": "stdout",
     "output_type": "stream",
     "text": [
      "[1, 2, 3, 4]\n"
     ]
    }
   ],
   "source": [
    "my_list = [1, 2, 3]\n",
    "my_list.append(4)  # Modifying the list\n",
    "print(my_list)   "
   ]
  },
  {
   "cell_type": "code",
   "execution_count": 29,
   "id": "cb2893df-3855-4d5b-ac16-e35903fde54f",
   "metadata": {},
   "outputs": [
    {
     "name": "stdout",
     "output_type": "stream",
     "text": [
      "{'name': 'Alice', 'age': 31}\n"
     ]
    }
   ],
   "source": [
    "\n",
    "my_dict = {\"name\": \"Alice\", \"age\": 30}\n",
    "my_dict[\"age\"] = 31  # Modifying the dictionary\n",
    "print(my_dict) "
   ]
  },
  {
   "cell_type": "code",
   "execution_count": null,
   "id": "04f2bd96-0e95-40ff-b544-2cc2290a39ef",
   "metadata": {},
   "outputs": [],
   "source": [
    "Immutable Objects:\n",
    "Definition: Objects that cannot be changed once they are created.\n",
    "Examples: Numbers (integers, floats), strings, tuples."
   ]
  },
  {
   "cell_type": "code",
   "execution_count": 31,
   "id": "d80bb86e-43f9-4b7c-bbf3-952f497477d0",
   "metadata": {},
   "outputs": [
    {
     "name": "stdout",
     "output_type": "stream",
     "text": [
      "6\n"
     ]
    }
   ],
   "source": [
    "x = 5\n",
    "x += 1  # Creates a new integer object with the value 6\n",
    "print(x)"
   ]
  },
  {
   "cell_type": "code",
   "execution_count": 33,
   "id": "f619f73d-c7b5-49cf-ba98-00f1b1dff899",
   "metadata": {},
   "outputs": [
    {
     "name": "stdout",
     "output_type": "stream",
     "text": [
      "Hello world\n"
     ]
    }
   ],
   "source": [
    "my_string = \"Hello\"\n",
    "my_string = my_string + \" world\"  # Creates a new string object\n",
    "print(my_string) "
   ]
  },
  {
   "cell_type": "raw",
   "id": "acd95027-1ac8-44bd-96bb-05919afc519a",
   "metadata": {},
   "source": [
    "Q4:-Discuss the different types of operators in Python and provide examples of how they are used"
   ]
  },
  {
   "cell_type": "code",
   "execution_count": null,
   "id": "256879bf-ea25-40f2-b55b-8a91dc398aa1",
   "metadata": {},
   "outputs": [],
   "source": [
    "ANS:-\n",
    "1. Arithmetic Operators:"
   ]
  },
  {
   "cell_type": "code",
   "execution_count": 35,
   "id": "26bd6057-eef6-406a-b393-6a96f989332f",
   "metadata": {},
   "outputs": [
    {
     "name": "stdout",
     "output_type": "stream",
     "text": [
      "8\n"
     ]
    }
   ],
   "source": [
    "# Addition\n",
    "result = 5 + 3\n",
    "print(result)"
   ]
  },
  {
   "cell_type": "code",
   "execution_count": 37,
   "id": "e0806ccf-8b48-41ec-90f8-488597b2064f",
   "metadata": {},
   "outputs": [
    {
     "name": "stdout",
     "output_type": "stream",
     "text": [
      "6\n"
     ]
    }
   ],
   "source": [
    "# Subtraction\n",
    "result = 10 - 4\n",
    "print(result)"
   ]
  },
  {
   "cell_type": "code",
   "execution_count": 39,
   "id": "c17a1255-5baf-4506-818b-bd228648e580",
   "metadata": {},
   "outputs": [
    {
     "name": "stdout",
     "output_type": "stream",
     "text": [
      "12\n"
     ]
    }
   ],
   "source": [
    "# Multiplication\n",
    "result = 2 * 6\n",
    "print(result)"
   ]
  },
  {
   "cell_type": "code",
   "execution_count": 41,
   "id": "625601cb-570b-4a8f-bf92-c8ab50672877",
   "metadata": {},
   "outputs": [
    {
     "name": "stdout",
     "output_type": "stream",
     "text": [
      "5.0\n"
     ]
    }
   ],
   "source": [
    "# Division\n",
    "result = 15 / 3\n",
    "print(result)"
   ]
  },
  {
   "cell_type": "code",
   "execution_count": 43,
   "id": "84dba605-3e45-483c-856f-28f6f1d4d46f",
   "metadata": {},
   "outputs": [
    {
     "name": "stdout",
     "output_type": "stream",
     "text": [
      "3\n"
     ]
    }
   ],
   "source": [
    "# Floor Division\n",
    "result = 17 // 5\n",
    "print(result)"
   ]
  },
  {
   "cell_type": "code",
   "execution_count": 45,
   "id": "b6ace40a-70f3-4866-9c46-0cec31b22689",
   "metadata": {},
   "outputs": [
    {
     "name": "stdout",
     "output_type": "stream",
     "text": [
      "2\n"
     ]
    }
   ],
   "source": [
    "# Modulus\n",
    "result = 17 % 5\n",
    "print(result)"
   ]
  },
  {
   "cell_type": "code",
   "execution_count": 47,
   "id": "42de2191-06ca-41a1-9140-c0c609113a66",
   "metadata": {},
   "outputs": [
    {
     "name": "stdout",
     "output_type": "stream",
     "text": [
      "8\n"
     ]
    }
   ],
   "source": [
    "# Power\n",
    "result = 2 ** 3\n",
    "print(result)"
   ]
  },
  {
   "cell_type": "code",
   "execution_count": null,
   "id": "71e66317-59d8-4a75-96ad-c9d585917fa1",
   "metadata": {},
   "outputs": [],
   "source": [
    "2.Comparison Operators"
   ]
  },
  {
   "cell_type": "code",
   "execution_count": 49,
   "id": "5b0f71be-b21a-48f7-9ad4-a8981cb8b133",
   "metadata": {},
   "outputs": [
    {
     "name": "stdout",
     "output_type": "stream",
     "text": [
      "True\n"
     ]
    }
   ],
   "source": [
    "# Equal to\n",
    "result = 5 == 5\n",
    "print(result)"
   ]
  },
  {
   "cell_type": "code",
   "execution_count": 51,
   "id": "94a48c43-8bfc-4376-8fa7-5c0a9be3e7a2",
   "metadata": {},
   "outputs": [
    {
     "name": "stdout",
     "output_type": "stream",
     "text": [
      "True\n"
     ]
    }
   ],
   "source": [
    "# Not equal to\n",
    "result = 3 != 7\n",
    "print(result)"
   ]
  },
  {
   "cell_type": "code",
   "execution_count": 53,
   "id": "ba922bdd-666d-43a7-879e-3ab74213185b",
   "metadata": {},
   "outputs": [
    {
     "name": "stdout",
     "output_type": "stream",
     "text": [
      "True\n"
     ]
    }
   ],
   "source": [
    "# Greater than\n",
    "result = 10 > 5\n",
    "print(result)"
   ]
  },
  {
   "cell_type": "code",
   "execution_count": 55,
   "id": "6a0e2d8c-d5e2-43c5-bc18-236791f8a5da",
   "metadata": {},
   "outputs": [
    {
     "name": "stdout",
     "output_type": "stream",
     "text": [
      "True\n"
     ]
    }
   ],
   "source": [
    "# Less than\n",
    "result = 2 < 8\n",
    "print(result)"
   ]
  },
  {
   "cell_type": "code",
   "execution_count": 57,
   "id": "d1f86b83-ba0c-4736-b8e3-f38d2eccb609",
   "metadata": {},
   "outputs": [
    {
     "name": "stdout",
     "output_type": "stream",
     "text": [
      "True\n"
     ]
    }
   ],
   "source": [
    "# Greater than or equal to\n",
    "result = 7 >= 7\n",
    "print(result)"
   ]
  },
  {
   "cell_type": "code",
   "execution_count": 59,
   "id": "4c5e318f-a67f-4ed7-ad94-1be0f44c4046",
   "metadata": {},
   "outputs": [
    {
     "name": "stdout",
     "output_type": "stream",
     "text": [
      "True\n"
     ]
    }
   ],
   "source": [
    "# Less than or equal to\n",
    "result = 4 <= 6\n",
    "print(result)"
   ]
  },
  {
   "cell_type": "code",
   "execution_count": null,
   "id": "cb8ccda9-c55b-42a4-8431-48cda485bb30",
   "metadata": {},
   "outputs": [],
   "source": [
    "3. Logical Operators"
   ]
  },
  {
   "cell_type": "code",
   "execution_count": 61,
   "id": "cbe1da91-6528-4085-8597-a4db38fdbd8e",
   "metadata": {},
   "outputs": [
    {
     "name": "stdout",
     "output_type": "stream",
     "text": [
      "True\n"
     ]
    }
   ],
   "source": [
    "# And\n",
    "result = (5 > 3) and (2 < 4)\n",
    "print(result)"
   ]
  },
  {
   "cell_type": "code",
   "execution_count": 63,
   "id": "c21c66ac-3eed-4862-9f3a-883ecc5b0fe5",
   "metadata": {},
   "outputs": [
    {
     "name": "stdout",
     "output_type": "stream",
     "text": [
      "True\n"
     ]
    }
   ],
   "source": [
    "# Or\n",
    "result = (6 == 6) or (7 < 2)\n",
    "print(result)"
   ]
  },
  {
   "cell_type": "code",
   "execution_count": 67,
   "id": "ad211adf-273f-4dff-b3eb-15f150b0410b",
   "metadata": {},
   "outputs": [
    {
     "name": "stdout",
     "output_type": "stream",
     "text": [
      "True\n"
     ]
    }
   ],
   "source": [
    "# Not\n",
    "result = not (10 == 5)\n",
    "print(result)"
   ]
  },
  {
   "cell_type": "code",
   "execution_count": null,
   "id": "3f2910a3-548d-402e-b5a9-3ff098fb68ac",
   "metadata": {},
   "outputs": [],
   "source": [
    "4.Bitwise Operators"
   ]
  },
  {
   "cell_type": "code",
   "execution_count": 69,
   "id": "aec57556-2989-4740-ab0a-491c7bcf2a10",
   "metadata": {},
   "outputs": [
    {
     "name": "stdout",
     "output_type": "stream",
     "text": [
      "1\n"
     ]
    }
   ],
   "source": [
    "# Bitwise AND\n",
    "result = 5 & 3\n",
    "print(result)"
   ]
  },
  {
   "cell_type": "code",
   "execution_count": 71,
   "id": "419804de-896d-47a6-a171-ee0a4bad99f1",
   "metadata": {},
   "outputs": [
    {
     "name": "stdout",
     "output_type": "stream",
     "text": [
      "7\n"
     ]
    }
   ],
   "source": [
    "# Bitwise OR\n",
    "result = 5 | 3\n",
    "print(result)"
   ]
  },
  {
   "cell_type": "code",
   "execution_count": 73,
   "id": "b0352028-0ead-4cb6-b871-24239afed174",
   "metadata": {},
   "outputs": [
    {
     "name": "stdout",
     "output_type": "stream",
     "text": [
      "6\n"
     ]
    }
   ],
   "source": [
    "# Bitwise XOR\n",
    "result = 5 ^ 3\n",
    "print(result) "
   ]
  },
  {
   "cell_type": "code",
   "execution_count": 75,
   "id": "e79e2c40-9a94-45e6-81f3-f75b06d66932",
   "metadata": {},
   "outputs": [
    {
     "name": "stdout",
     "output_type": "stream",
     "text": [
      "-6\n"
     ]
    }
   ],
   "source": [
    "# Bitwise NOT\n",
    "result = ~5\n",
    "print(result)"
   ]
  },
  {
   "cell_type": "code",
   "execution_count": 77,
   "id": "a8738a73-cd89-4dd0-83ee-ce7cd46533a6",
   "metadata": {},
   "outputs": [
    {
     "name": "stdout",
     "output_type": "stream",
     "text": [
      "20\n"
     ]
    }
   ],
   "source": [
    "# Left shift\n",
    "result = 5 << 2\n",
    "print(result) "
   ]
  },
  {
   "cell_type": "code",
   "execution_count": 79,
   "id": "452e266a-289c-4c53-9f89-11e7829ce348",
   "metadata": {},
   "outputs": [
    {
     "name": "stdout",
     "output_type": "stream",
     "text": [
      "2\n"
     ]
    }
   ],
   "source": [
    "# Right shift\n",
    "result = 10 >> 2\n",
    "print(result)"
   ]
  },
  {
   "cell_type": "code",
   "execution_count": null,
   "id": "dd7bc77e-9fa2-4a45-b418-4b96345ec9ff",
   "metadata": {},
   "outputs": [],
   "source": [
    "5.Membership Operators"
   ]
  },
  {
   "cell_type": "code",
   "execution_count": 81,
   "id": "0cb79d77-f5dd-4bf0-859d-ef171d07c50c",
   "metadata": {},
   "outputs": [
    {
     "name": "stdout",
     "output_type": "stream",
     "text": [
      "True\n"
     ]
    }
   ],
   "source": [
    "# In\n",
    "my_list = [1, 2, 3]\n",
    "result = 2 in my_list\n",
    "print(result)"
   ]
  },
  {
   "cell_type": "code",
   "execution_count": 83,
   "id": "ede9f4ce-806d-4135-aa07-d65a517b0935",
   "metadata": {},
   "outputs": [
    {
     "name": "stdout",
     "output_type": "stream",
     "text": [
      "True\n"
     ]
    }
   ],
   "source": [
    "# Not in\n",
    "my_string = \"hello\"\n",
    "result = \"z\" not in my_string\n",
    "print(result)"
   ]
  },
  {
   "cell_type": "code",
   "execution_count": null,
   "id": "bd924241-687f-4a87-84d6-00921885ac4b",
   "metadata": {},
   "outputs": [],
   "source": [
    "6.Identity Operators"
   ]
  },
  {
   "cell_type": "code",
   "execution_count": 85,
   "id": "121f8a1d-1864-4d4a-b81c-0051571daa21",
   "metadata": {},
   "outputs": [
    {
     "name": "stdout",
     "output_type": "stream",
     "text": [
      "True\n"
     ]
    }
   ],
   "source": [
    "# Is\n",
    "x = 5\n",
    "y = 5\n",
    "result = x is y\n",
    "print(result)"
   ]
  },
  {
   "cell_type": "code",
   "execution_count": 87,
   "id": "e4f6d8f9-112b-4b58-b495-ff0091476c15",
   "metadata": {},
   "outputs": [
    {
     "name": "stdout",
     "output_type": "stream",
     "text": [
      "True\n"
     ]
    }
   ],
   "source": [
    "# Is not\n",
    "my_list1 = [1, 2]\n",
    "my_list2 = [1, 2]\n",
    "result = my_list1 is not my_list2\n",
    "print(result)"
   ]
  },
  {
   "cell_type": "raw",
   "id": "719701af-0bb2-4c1b-98c6-323b3788458b",
   "metadata": {},
   "source": [
    "Q5:-Explain the concept of type casting in Python with examples"
   ]
  },
  {
   "cell_type": "code",
   "execution_count": null,
   "id": "f8bc5833-80a0-46e9-9406-3559e9f82008",
   "metadata": {},
   "outputs": [],
   "source": [
    "ANS:-\n",
    "\n",
    "Type casting is the process of converting a variable from one data type to another. Python provides built-in functions to perform type casting:\n",
    "int(): Converts to an integer.\n",
    "float(): Converts to a floating-point number.\n",
    "str(): Converts to a string.\n",
    "bool(): Converts to a boolean (True or False)."
   ]
  },
  {
   "cell_type": "code",
   "execution_count": 89,
   "id": "9de9cc56-d5a7-4223-ae21-77f67939b079",
   "metadata": {},
   "outputs": [
    {
     "name": "stdout",
     "output_type": "stream",
     "text": [
      "5.0\n"
     ]
    }
   ],
   "source": [
    "# Integer to Float\n",
    "x = 5\n",
    "y = float(x)\n",
    "print(y)  "
   ]
  },
  {
   "cell_type": "code",
   "execution_count": 91,
   "id": "f6d8bf7e-5e07-49b6-9dbd-afeb2722f4e7",
   "metadata": {},
   "outputs": [
    {
     "name": "stdout",
     "output_type": "stream",
     "text": [
      "3\n"
     ]
    }
   ],
   "source": [
    "# Float to Integer\n",
    "x = 3.14\n",
    "y = int(x)\n",
    "print(y)"
   ]
  },
  {
   "cell_type": "code",
   "execution_count": 93,
   "id": "54f12313-2bd3-40dd-b411-76d124cea28a",
   "metadata": {},
   "outputs": [
    {
     "name": "stdout",
     "output_type": "stream",
     "text": [
      "10\n"
     ]
    }
   ],
   "source": [
    "# String to Integer\n",
    "x = \"10\"\n",
    "y = int(x)\n",
    "print(y)"
   ]
  },
  {
   "cell_type": "code",
   "execution_count": 95,
   "id": "be7eb13f-89c9-45ad-95f1-7976f731f738",
   "metadata": {},
   "outputs": [
    {
     "name": "stdout",
     "output_type": "stream",
     "text": [
      "25\n"
     ]
    }
   ],
   "source": [
    "# Integer to String\n",
    "x = 25\n",
    "y = str(x)\n",
    "print(y)"
   ]
  },
  {
   "cell_type": "code",
   "execution_count": 97,
   "id": "afbc0754-9064-4d29-b4a0-6074b8c23512",
   "metadata": {},
   "outputs": [
    {
     "name": "stdout",
     "output_type": "stream",
     "text": [
      "1\n"
     ]
    }
   ],
   "source": [
    "# Boolean to Integer\n",
    "x = True\n",
    "y = int(x)\n",
    "print(y)"
   ]
  },
  {
   "cell_type": "raw",
   "id": "3b130964-5829-482b-ae07-45d21ada10a9",
   "metadata": {},
   "source": [
    "Q6:-How do conditional statements work in Python? Illustrate with examples"
   ]
  },
  {
   "cell_type": "code",
   "execution_count": null,
   "id": "194af841-3162-4928-9642-87a842d4c3e1",
   "metadata": {},
   "outputs": [],
   "source": [
    "ANS:-\n",
    "Conditional statements allow us to control the flow of our program based on certain conditions. Python uses the if, else, and elif keywords to create conditional statements."
   ]
  },
  {
   "cell_type": "code",
   "execution_count": 99,
   "id": "6ca4ecfa-1c80-4869-b05d-06eb3c90c7d2",
   "metadata": {},
   "outputs": [
    {
     "name": "stdout",
     "output_type": "stream",
     "text": [
      "You are an adult.\n"
     ]
    }
   ],
   "source": [
    "# Simple if statement\n",
    "age = 18\n",
    "if age >= 18:\n",
    "    print(\"You are an adult.\")"
   ]
  },
  {
   "cell_type": "code",
   "execution_count": 103,
   "id": "e1380181-a1aa-4b72-af5f-e0830860e43d",
   "metadata": {},
   "outputs": [
    {
     "name": "stdout",
     "output_type": "stream",
     "text": [
      "x is greater than y.\n"
     ]
    }
   ],
   "source": [
    "# if-else statement\n",
    "x = 10\n",
    "y = 5\n",
    "if x > y:\n",
    "    print(\"x is greater than y.\")\n",
    "else:\n",
    "    print(\"x is less than or equal to y.\")"
   ]
  },
  {
   "cell_type": "code",
   "execution_count": 105,
   "id": "bf5fcad8-c8a7-4eb4-89be-6bcc206be50f",
   "metadata": {},
   "outputs": [
    {
     "name": "stdout",
     "output_type": "stream",
     "text": [
      "Good job!\n"
     ]
    }
   ],
   "source": [
    "# if-elif-else statement\n",
    "grade = 85\n",
    "if grade >= 90:\n",
    "    print(\"Excellent!\")\n",
    "elif grade >= 80:\n",
    "    print(\"Good job!\")\n",
    "else:\n",
    "    print(\"Needs improvement.\")"
   ]
  },
  {
   "cell_type": "code",
   "execution_count": 107,
   "id": "7588ec89-bd1e-40c6-98da-ddbb83195812",
   "metadata": {},
   "outputs": [
    {
     "name": "stdout",
     "output_type": "stream",
     "text": [
      "It's a rainy day.\n"
     ]
    }
   ],
   "source": [
    "# Nested if statements\n",
    "is_raining = True\n",
    "is_sunny = False\n",
    "if is_raining:\n",
    "    if is_sunny:\n",
    "        print(\"It's a sunny day with rain.\")\n",
    "    else:\n",
    "        print(\"It's a rainy day.\")\n",
    "else:\n",
    "    print(\"It's not raining.\")"
   ]
  },
  {
   "cell_type": "raw",
   "id": "7e09e564-9bb4-424c-80c2-2ef336a50f95",
   "metadata": {},
   "source": [
    "Q7:- Describe the different types of loops in Python and their use cases with examples."
   ]
  },
  {
   "cell_type": "code",
   "execution_count": null,
   "id": "22645f59-0193-481b-8dff-ee6a157996e4",
   "metadata": {},
   "outputs": [],
   "source": [
    "ANS:-Python offers three main types of loops to control the flow of execution: for loops, while loops, and nested loops."
   ]
  },
  {
   "cell_type": "code",
   "execution_count": 109,
   "id": "b5df1fbf-9ab5-4fd2-9b70-c3f150ac0ab1",
   "metadata": {},
   "outputs": [
    {
     "name": "stdout",
     "output_type": "stream",
     "text": [
      "apple\n",
      "banana\n",
      "orange\n"
     ]
    }
   ],
   "source": [
    "# For Loop\n",
    "fruits = [\"apple\", \"banana\", \"orange\"]\n",
    "for fruit in fruits:\n",
    "    print(fruit)"
   ]
  },
  {
   "cell_type": "code",
   "execution_count": 111,
   "id": "cda18f4c-c40f-454f-88b3-e9e14a36e5c8",
   "metadata": {},
   "outputs": [
    {
     "name": "stdout",
     "output_type": "stream",
     "text": [
      "0\n",
      "1\n",
      "2\n",
      "3\n",
      "4\n"
     ]
    }
   ],
   "source": [
    "# While Loop\n",
    "count = 0\n",
    "while count < 5:\n",
    "    print(count)\n",
    "    count += 1"
   ]
  },
  {
   "cell_type": "code",
   "execution_count": 113,
   "id": "d7f8e3dd-554f-4b78-b4a8-3da1053e27d5",
   "metadata": {},
   "outputs": [
    {
     "name": "stdout",
     "output_type": "stream",
     "text": [
      "0 0\n",
      "0 1\n",
      "1 0\n",
      "1 1\n",
      "2 0\n",
      "2 1\n"
     ]
    }
   ],
   "source": [
    "# Nested Loop\n",
    "for i in range(3):\n",
    "    for j in range(2):\n",
    "        print(i, j)"
   ]
  }
 ],
 "metadata": {
  "kernelspec": {
   "display_name": "Python 3 (ipykernel)",
   "language": "python",
   "name": "python3"
  },
  "language_info": {
   "codemirror_mode": {
    "name": "ipython",
    "version": 3
   },
   "file_extension": ".py",
   "mimetype": "text/x-python",
   "name": "python",
   "nbconvert_exporter": "python",
   "pygments_lexer": "ipython3",
   "version": "3.12.4"
  }
 },
 "nbformat": 4,
 "nbformat_minor": 5
}
